{
  "nbformat": 4,
  "nbformat_minor": 0,
  "metadata": {
    "colab": {
      "provenance": [],
      "authorship_tag": "ABX9TyMDCaJmDXLIebj+wX93srBo",
      "include_colab_link": true
    },
    "kernelspec": {
      "name": "python3",
      "display_name": "Python 3"
    },
    "language_info": {
      "name": "python"
    }
  },
  "cells": [
    {
      "cell_type": "markdown",
      "metadata": {
        "id": "view-in-github",
        "colab_type": "text"
      },
      "source": [
        "<a href=\"https://colab.research.google.com/github/amir188dor/class18_6/blob/main/titanic.ipynb\" target=\"_parent\"><img src=\"https://colab.research.google.com/assets/colab-badge.svg\" alt=\"Open In Colab\"/></a>"
      ]
    },
    {
      "cell_type": "code",
      "execution_count": 1,
      "metadata": {
        "id": "LgPLyHr-XafK"
      },
      "outputs": [],
      "source": [
        "import pandas as pd\n",
        "import numpy as np\n",
        "import matplotlib.pyplot as plt\n",
        "from sklearn.model_selection import train_test_split\n",
        "from sklearn.linear_model import LogisticRegression\n",
        "from sklearn.metrics import classification_report, confusion_matrix\n",
        "import seaborn as sns"
      ]
    },
    {
      "cell_type": "code",
      "source": [
        "\n",
        "# URLs of the dataset\n",
        "train_url = \"https://raw.githubusercontent.com/amir188dor/class18_6/main/traintitanic.csv\"\n",
        "test_url = \"https://raw.githubusercontent.com/amir188dor/class18_6/main/testtitanic.csv\"\n",
        "\n",
        "# Reading the CSV files from the URLs\n",
        "train_data = pd.read_csv(train_url)\n",
        "test_data = pd.read_csv(test_url)"
      ],
      "metadata": {
        "id": "kCKm9b5kYRq1"
      },
      "execution_count": 2,
      "outputs": []
    },
    {
      "cell_type": "code",
      "source": [
        "# Displaying the first few rows of the training dataset\n",
        "print(train_data.head())\n",
        "\n",
        "# Basic visualization of the training data: distribution of classes\n",
        "sns.countplot(x='Survived', data=train_data)\n",
        "plt.title('Distribution of Survival in Training Data (1 = Survived, 0 = Died)')\n",
        "plt.show()\n"
      ],
      "metadata": {
        "id": "Pk6ibgYwYY1F"
      },
      "execution_count": 6,
      "outputs": []
    },
    {
      "cell_type": "code",
      "source": [
        "# Preprocessing the data\n",
        "# Converting categorical 'Sex' variable to numeric\n",
        "train_data['Sex'] = train_data['Sex'].map({'male': 0, 'female': 1})\n",
        "test_data['Sex'] = test_data['Sex'].map({'male': 0, 'female': 1})\n",
        "\n",
        "# Handling missing values - filling missing 'Age' values with the median age\n",
        "train_data['Age'].fillna(train_data['Age'].median(), inplace=True)\n",
        "test_data['Age'].fillna(test_data['Age'].median(), inplace=True)"
      ],
      "metadata": {
        "id": "a5OR3p5sZC5U"
      },
      "execution_count": null,
      "outputs": []
    },
    {
      "cell_type": "code",
      "source": [
        "# Selecting features and target for the model\n",
        "features = ['Pclass', 'Sex', 'Age', 'SibSp', 'Parch', 'Fare']\n",
        "X_train = train_data[features]\n",
        "y_train = train_data['Survived']\n",
        "X_test = test_data[features]"
      ],
      "metadata": {
        "id": "4rbVFJ-YZESU"
      },
      "execution_count": null,
      "outputs": []
    },
    {
      "cell_type": "code",
      "source": [
        "# Creating and training the logistic regression model\n",
        "model = LogisticRegression(max_iter=200)\n",
        "model.fit(X_train, y_train)\n",
        "\n",
        "# Predicting the test data\n",
        "predictions = model.predict(X_test)"
      ],
      "metadata": {
        "id": "kZItIqNUZHEV"
      },
      "execution_count": null,
      "outputs": []
    },
    {
      "cell_type": "code",
      "source": [
        " Visualizing the predicted data (Note: test dataset usually doesn't have 'Survived' column, shown here for illustration)\n",
        "if 'Survived' in test_data:\n",
        "    sns.countplot(x=predictions, data=test_data)\n",
        "    plt.title('Predicted Survival on Test Data (1 = Survived, 0 = Died)')\n",
        "    plt.show()\n",
        "\n",
        "    # Evaluating the model if test data has the 'Survived' column\n",
        "    print(\"Classification Report:\\n\", classification_report(test_data['Survived'], predictions))\n",
        "    print(\"Confusion Matrix:\\n\", confusion_matrix(test_data['Survived'], predictions))\n",
        "\n",
        "# Showing a few prediction results\n",
        "predicted_output = pd.DataFrame({'PassengerId': test_data['PassengerId'], 'Survived': predictions})\n",
        "print(predicted_output.head())"
      ],
      "metadata": {
        "id": "nFBXqDJeZKyG"
      },
      "execution_count": null,
      "outputs": []
    }
  ]
}